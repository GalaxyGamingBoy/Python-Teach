{
    "cells": [
        {
            "cell_type": "markdown",
            "source": [
                "# Lesson 1 - Hello World!    \r\n",
                "A simple explaination for the lesson can be found [Here](https://docs.google.com/document/d/1avnwMcTuZKVCMUJSivrJ4KE_86srTDd81uzG_rzNaBM/edit?usp=sharing)    \r\n",
                "Or the more detailed version on the python docs can be found [Here](https://docs.python.org/3/library/functions.html#print)\r\n",
                "# Other\r\n",
                "Αυτο `\"\"` είναι ενα string. Μεσα στα string μπορείς να βαλεις κείμενο.    \r\n",
                "Π.χ `\"Text text2 texT3 TEXT4\"`    \r\n",
                "> Προσοχή! Αυτο \"1\" θεωρείται σαν κείμενο και οχι αριθμος. Ο αριθμος μπένει χωρις \"\"    \r\n",
                "    \r\n",
                "Αυτο `#` είναι ενα comment.    \r\n",
                "Μεσα στα comment μπορείς να γράψεις οτι θέλεις    \r\n",
                "# Code & Example"
            ],
            "metadata": {}
        },
        {
            "cell_type": "code",
            "execution_count": 7,
            "source": [
                "print(\"Text text2 texT3 TEXT4\")\r\n",
                "print(\"Hello World!\")\r\n",
                "print(\"Whatever text\")\r\n",
                "print(\"Even greek....\")\r\n",
                "print(\"Αλήθεια\")\r\n",
                "# You can do even math!\r\n",
                "print(2+3)\r\n",
                "print(3-2)\r\n",
                "print(3*2)\r\n",
                "print(2/3)"
            ],
            "outputs": [
                {
                    "output_type": "stream",
                    "name": "stdout",
                    "text": [
                        "Text text2 texT3 TEXT4\n",
                        "Hello World!\n",
                        "Whatever text\n",
                        "Even greek....\n",
                        "Αλήθεια\n",
                        "5\n",
                        "1\n",
                        "6\n",
                        "0.6666666666666666\n"
                    ]
                }
            ],
            "metadata": {}
        }
    ],
    "metadata": {
        "orig_nbformat": 4,
        "language_info": {
            "name": "python",
            "version": "3.9.5",
            "mimetype": "text/x-python",
            "codemirror_mode": {
                "name": "ipython",
                "version": 3
            },
            "pygments_lexer": "ipython3",
            "nbconvert_exporter": "python",
            "file_extension": ".py"
        },
        "kernelspec": {
            "name": "python3",
            "display_name": "Python 3.9.5 64-bit"
        },
        "interpreter": {
            "hash": "e2e87662f2226f482980db0a258d06012ea0026f4ab0fdc4728dc324ed5dccc2"
        }
    },
    "nbformat": 4,
    "nbformat_minor": 2
}